{
 "cells": [
  {
   "cell_type": "code",
   "execution_count": 6,
   "metadata": {},
   "outputs": [
    {
     "name": "stdout",
     "output_type": "stream",
     "text": [
      "mayor\n"
     ]
    }
   ],
   "source": [
    "x = 5\n",
    "if x < 0:\n",
    "    x = 0 \n",
    "    print(\"negativo cambiado a cero\")\n",
    "elif x == 0:\n",
    "    print(\"valor es cero\")\n",
    "elif x == 1:\n",
    "    print(\"numero Simple\")\n",
    "elif x != 100:\n",
    "    print(\"mayor\")"
   ]
  },
  {
   "cell_type": "code",
   "execution_count": 11,
   "metadata": {},
   "outputs": [
    {
     "name": "stdout",
     "output_type": "stream",
     "text": [
      "1\n"
     ]
    }
   ],
   "source": [
    "x=\"a\"\n",
    "if x==\"a\":\n",
    "    print(1)\n",
    "elif x==\"b\":\n",
    "    print(2)\n",
    "else:\n",
    "    print(\"otra letra\")"
   ]
  },
  {
   "cell_type": "code",
   "execution_count": 13,
   "metadata": {},
   "outputs": [
    {
     "name": "stdout",
     "output_type": "stream",
     "text": [
      "no\n"
     ]
    }
   ],
   "source": [
    "x=False\n",
    "if x :\n",
    "    print(\"si\")\n",
    "else:\n",
    "    print(\"no\")"
   ]
  },
  {
   "cell_type": "code",
   "execution_count": 19,
   "metadata": {},
   "outputs": [
    {
     "name": "stdout",
     "output_type": "stream",
     "text": [
      "hola 4\n",
      "adios 5\n",
      "ventana 7\n",
      "Puerta 6\n",
      "PC 2\n",
      "plumas 6\n"
     ]
    }
   ],
   "source": [
    "palabras = [\"hola\",\"adios\",\"ventana\",\"Puerta\",\"PC\",\"plumas\"]\n",
    "for palabra in palabras:\n",
    "    print(palabra,len(palabra))"
   ]
  },
  {
   "cell_type": "code",
   "execution_count": 33,
   "metadata": {},
   "outputs": [
    {
     "name": "stdout",
     "output_type": "stream",
     "text": [
      "gerardo\n",
      "activo\n",
      "jose\n",
      "inactivo\n",
      "andres\n",
      "activo\n",
      "{'gerardo': 'activo', 'andres': 'activo'}\n",
      "ejemplo2\n",
      "{'gerardo': 'activo', 'jose': 'inactivo', 'andres': 'activo'}\n",
      "{'gerardo': 'activo', 'andres': 'activo'}\n"
     ]
    }
   ],
   "source": [
    "users = {'gerardo':'activo','jose':'inactivo','andres':'activo'}\n",
    "\n",
    "for user, status in users.copy().items():\n",
    "    print(user) # key\n",
    "    print(status) # value\n",
    "\n",
    "    if status == 'inactivo':\n",
    "        del users[user]\n",
    "    \n",
    "print(users)\n",
    "\n",
    "users = {'gerardo':'activo','jose':'inactivo','andres':'activo'}\n",
    "active_users = {}\n",
    "for user, status in users.items():\n",
    "    if status == 'activo':\n",
    "        active_users[user] = status\n",
    "print(\"ejemplo2\")\n",
    "print(users)\n",
    "print(active_users)\n"
   ]
  },
  {
   "cell_type": "code",
   "execution_count": null,
   "metadata": {},
   "outputs": [],
   "source": []
  },
  {
   "cell_type": "code",
   "execution_count": 14,
   "metadata": {},
   "outputs": [
    {
     "name": "stdout",
     "output_type": "stream",
     "text": [
      "hola\n",
      "adios\n"
     ]
    }
   ],
   "source": [
    "palabras = [\"hola\",\"adios\",\"ventana\",\"Puerta\",\"PC\",\"plumas\"]\n",
    "l=len(palabras)\n",
    "for i in range(l):\n",
    "    if i==2:\n",
    "        break\n",
    "\n",
    "    print(palabras[i])\n"
   ]
  },
  {
   "cell_type": "code",
   "execution_count": 17,
   "metadata": {},
   "outputs": [
    {
     "name": "stdout",
     "output_type": "stream",
     "text": [
      "hola\n",
      "adios\n",
      "Puerta\n",
      "PC\n",
      "plumas\n"
     ]
    }
   ],
   "source": [
    "for i in range(l):\n",
    "    if i==2:\n",
    "        continue\n",
    "    print(palabras[i])\n"
   ]
  },
  {
   "cell_type": "code",
   "execution_count": 21,
   "metadata": {},
   "outputs": [],
   "source": [
    "for i in range(l):\n",
    "     pass # todo: logica de sumatoria"
   ]
  },
  {
   "cell_type": "code",
   "execution_count": 24,
   "metadata": {},
   "outputs": [
    {
     "name": "stdout",
     "output_type": "stream",
     "text": [
      "1\n",
      "2\n",
      "3\n",
      "4\n",
      "5\n",
      "6\n",
      "7\n",
      "8\n",
      "9\n",
      "10\n"
     ]
    }
   ],
   "source": [
    "\n",
    "for n in range(1,10+1):\n",
    "    print(n)\n"
   ]
  },
  {
   "cell_type": "code",
   "execution_count": 30,
   "metadata": {},
   "outputs": [
    {
     "name": "stdout",
     "output_type": "stream",
     "text": [
      "h\n",
      "o\n",
      "l\n",
      "a\n",
      " \n",
      " \n",
      "m\n",
      "u\n",
      "n\n",
      "d\n",
      "o\n"
     ]
    }
   ],
   "source": [
    "for s in \"hola mundo\":\n",
    "    print (s)"
   ]
  },
  {
   "cell_type": "code",
   "execution_count": 32,
   "metadata": {},
   "outputs": [
    {
     "name": "stdout",
     "output_type": "stream",
     "text": [
      "0\n",
      "hola\n",
      "1\n",
      "adios\n",
      "2\n",
      "ventana\n",
      "3\n",
      "Puerta\n",
      "4\n",
      "PC\n",
      "5\n",
      "plumas\n"
     ]
    }
   ],
   "source": [
    "contador = 0\n",
    "palabras = [\"hola\",\"adios\",\"ventana\",\"Puerta\",\"PC\",\"plumas\"]\n",
    "l=len(palabras)\n",
    "while contador < l:\n",
    "    print(contador)\n",
    "    print(palabras[contador])\n",
    "    contador += 1\n",
    "   \n"
   ]
  },
  {
   "cell_type": "code",
   "execution_count": 5,
   "metadata": {},
   "outputs": [
    {
     "name": "stdout",
     "output_type": "stream",
     "text": [
      "#32a834\n"
     ]
    }
   ],
   "source": [
    "color = \"verde\"\n",
    "\n",
    "match color:\n",
    "    case \"azul\":\n",
    "        print(\"#326fa8\")\n",
    "    case \"amarillo\":\n",
    "        print(\"#a8a832\")\n",
    "    case\"verde\":\n",
    "        print(\"#32a834\")\n",
    "    case _:\n",
    "        print(\"no es color\")"
   ]
  },
  {
   "cell_type": "code",
   "execution_count": 9,
   "metadata": {},
   "outputs": [
    {
     "name": "stdout",
     "output_type": "stream",
     "text": [
      "negro 3 100 103\n",
      "fin\n"
     ]
    }
   ],
   "source": [
    "def test(color, size, total):\n",
    "    print(color,size,total,size + total)\n",
    "\n",
    "test(\"negro\",3,100)\n",
    "\n",
    "print(\"fin\")\n"
   ]
  },
  {
   "cell_type": "code",
   "execution_count": 10,
   "metadata": {},
   "outputs": [
    {
     "name": "stdout",
     "output_type": "stream",
     "text": [
      "#32a834\n",
      "#326fa8\n",
      "#a8a832\n",
      "no es color\n"
     ]
    }
   ],
   "source": [
    "def get_xea_color(color):\n",
    "    match color:\n",
    "        case \"azul\":\n",
    "            print(\"#326fa8\")\n",
    "        case \"amarillo\":\n",
    "            print(\"#a8a832\")\n",
    "        case\"verde\":\n",
    "            print(\"#32a834\")\n",
    "        case _:\n",
    "            print(\"no es color\")\n",
    "\n",
    "get_xea_color(\"verde\")\n",
    "\n",
    "get_xea_color(\"azul\")\n",
    "\n",
    "get_xea_color(\"amarillo\")\n",
    "\n",
    "get_xea_color(4545)\n",
    "\n"
   ]
  },
  {
   "cell_type": "code",
   "execution_count": 23,
   "metadata": {},
   "outputs": [
    {
     "name": "stdout",
     "output_type": "stream",
     "text": [
      "pcis: \n",
      "\n",
      "15\n",
      "azul\n",
      "3\n",
      "3\n"
     ]
    },
    {
     "name": "stdout",
     "output_type": "stream",
     "text": [
      "0\n",
      "10\n"
     ]
    }
   ],
   "source": [
    "# programacion orientada a objetos\n",
    "class globo:\n",
    "    def __init__(self,color,size):\n",
    "        self.color = color\n",
    "        self.size = size\n",
    "    \n",
    "    def inflar(self):\n",
    "        pci = 0\n",
    "\n",
    "        match self.size:\n",
    "            case 1:\n",
    "                pci=5\n",
    "            case 2:\n",
    "                pci=10\n",
    "            case 3:\n",
    "                pci=15\n",
    "            case _:\n",
    "                pci=None\n",
    "\n",
    "        self.pci = pci\n",
    "\n",
    "    def desinflar(self):\n",
    "        self.pci=0\n",
    "\n",
    "        \n",
    "\n",
    "def inflar_globo(color,size):\n",
    "    globo_obj = globo(color,size)\n",
    "    pci = 0\n",
    "\n",
    "    match size:\n",
    "        case 1:\n",
    "            pci=5\n",
    "        case 2:\n",
    "            pci=10\n",
    "        case 3:\n",
    "            pci=15\n",
    "        case _:\n",
    "            pci=None\n",
    "\n",
    "    globo_obj.pci = pci\n",
    "\n",
    "    return globo_obj\n",
    "\n",
    "def desinflar_glob(globo_var):\n",
    "    nuevo_globo = globo(globo_var.color, globo_var.size) #Todo: referencias de codigo\n",
    "    nuevo_globo.pci=0\n",
    "    return nuevo_globo\n",
    "\n",
    "instance_globo = inflar_globo(\"azul\",3)\n",
    "\n",
    "print(\"pcis: \\n\")\n",
    "print(instance_globo.pci)\n",
    "print(instance_globo.color)\n",
    "print(instance_globo.size)\n",
    "\n",
    "nuevo = desinflar_globo(instance_globo)\n",
    "\n",
    "print(nuevo.size)\n",
    "\n",
    "globo_rojo = globo(\"rojo\",2)\n",
    "\n",
    "globo_rojo.desinflar()\n",
    "\n",
    "print(globo_rojo.pci)\n",
    "\n",
    "globo_rojo.inflar()\n",
    "\n",
    "print(globo_rojo.pci)\n"
   ]
  },
  {
   "cell_type": "code",
   "execution_count": 29,
   "metadata": {},
   "outputs": [
    {
     "name": "stdout",
     "output_type": "stream",
     "text": [
      "None\n"
     ]
    }
   ],
   "source": [
    "size = int(input(\"Teclea el numero del tamaño :\"))\n",
    "pci=0\n",
    "match size:\n",
    "        case 1:\n",
    "            pci=5\n",
    "        case 2:\n",
    "            pci=10\n",
    "        case 3:\n",
    "            pci=15\n",
    "        case _:\n",
    "            pci=None\n",
    "\n",
    "print(pci)"
   ]
  }
 ],
 "metadata": {
  "kernelspec": {
   "display_name": "Python 3",
   "language": "python",
   "name": "python3"
  },
  "language_info": {
   "codemirror_mode": {
    "name": "ipython",
    "version": 3
   },
   "file_extension": ".py",
   "mimetype": "text/x-python",
   "name": "python",
   "nbconvert_exporter": "python",
   "pygments_lexer": "ipython3",
   "version": "3.12.2"
  }
 },
 "nbformat": 4,
 "nbformat_minor": 2
}
