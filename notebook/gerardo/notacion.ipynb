{
 "cells": [
  {
   "cell_type": "code",
   "execution_count": 4,
   "metadata": {},
   "outputs": [
    {
     "data": {
      "text/plain": [
       "'Calculo de area para  poligonos\\n    prueba de documentacion\\n\\n    '"
      ]
     },
     "execution_count": 4,
     "metadata": {},
     "output_type": "execute_result"
    }
   ],
   "source": [
    "def area():\n",
    "    \"\"\"Calculo de area para  poligonos\n",
    "    prueba de documentacion\n",
    "\n",
    "    \"\"\"\n",
    "\n",
    "    # notas de codigo\n",
    "    pass\n",
    "\n",
    "area.__doc__\n",
    "\n"
   ]
  },
  {
   "cell_type": "code",
   "execution_count": 7,
   "metadata": {},
   "outputs": [
    {
     "name": "stdout",
     "output_type": "stream",
     "text": [
      "Calculo de area para  poligonos\n",
      "    prueba de documentacion\n",
      "\n",
      "    \n",
      "{'base': <class 'int'>, 'altura': <class 'int'>, 'return': <class 'int'>}\n"
     ]
    }
   ],
   "source": [
    "def nueva_area(base: int, altura: int) -> int:\n",
    "    \"\"\"Calculo de area para  poligonos\n",
    "    prueba de documentacion\n",
    "\n",
    "    \"\"\"\n",
    "    return base * altura\n",
    "\n",
    "print(nueva_area.__doc__)\n",
    "print(nueva_area.__annotations__)"
   ]
  },
  {
   "cell_type": "code",
   "execution_count": 13,
   "metadata": {},
   "outputs": [
    {
     "name": "stdout",
     "output_type": "stream",
     "text": [
      "Clase globo con funciones de inflado y desinflado\n",
      "    \n",
      "Funcion para desinflar globo \n",
      "        le asigna el valor 0 a la propiedad pci\n",
      "        \n",
      "inflar\n"
     ]
    }
   ],
   "source": [
    "class globo:\n",
    "    \"\"\"Clase globo con funciones de inflado y desinflado\n",
    "    \"\"\"\n",
    "    def __init__(self,color: str,size: int)->None:\n",
    "        self.color = color\n",
    "        self.size = size\n",
    "    \n",
    "    def inflar(self):\n",
    "        \"\"\"Funcion para inflar un globo\n",
    "        dependiendo de su tamaño\n",
    "        \n",
    "        \"\"\"\n",
    "        pci = 0\n",
    "\n",
    "        match self.size:\n",
    "            case 1:\n",
    "                pci=5\n",
    "            case 2:\n",
    "                pci=10\n",
    "            case 3:\n",
    "                pci=15\n",
    "            case _:\n",
    "                pci=None\n",
    "\n",
    "        self.pci = pci\n",
    "\n",
    "    def desinflar(self):\n",
    "        \"\"\"Funcion para desinflar globo \n",
    "        le asigna el valor 0 a la propiedad pci\n",
    "        \"\"\"\n",
    "        self.pci=0\n",
    "\n",
    "print(globo.__doc__)\n",
    "print(globo.desinflar.__doc__)\n",
    "print(globo.inflar.__name__)"
   ]
  }
 ],
 "metadata": {
  "kernelspec": {
   "display_name": "Python 3",
   "language": "python",
   "name": "python3"
  },
  "language_info": {
   "codemirror_mode": {
    "name": "ipython",
    "version": 3
   },
   "file_extension": ".py",
   "mimetype": "text/x-python",
   "name": "python",
   "nbconvert_exporter": "python",
   "pygments_lexer": "ipython3",
   "version": "3.12.2"
  }
 },
 "nbformat": 4,
 "nbformat_minor": 2
}
