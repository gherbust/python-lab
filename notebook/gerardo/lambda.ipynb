{
 "cells": [
  {
   "cell_type": "code",
   "execution_count": 6,
   "metadata": {},
   "outputs": [
    {
     "data": {
      "text/plain": [
       "10"
      ]
     },
     "execution_count": 6,
     "metadata": {},
     "output_type": "execute_result"
    }
   ],
   "source": [
    "def incrementar(n):\n",
    "    return lambda x: x + n\n",
    "\n",
    "\n",
    "f = incrementar(0)\n",
    "\n",
    "f(0)\n",
    "f(5)\n",
    "f(10)\n",
    "\n"
   ]
  },
  {
   "cell_type": "code",
   "execution_count": 20,
   "metadata": {},
   "outputs": [
    {
     "name": "stdout",
     "output_type": "stream",
     "text": [
      "[(4, 'cuatro'), (2, 'dos'), (3, 'tres'), (1, 'uno')]\n"
     ]
    }
   ],
   "source": [
    "pares =[(1,\"uno\"),(2,\"dos\"),(3,'tres'),(4,'cuatro')]\n",
    "pares.sort(key=lambda par: par[1])\n",
    "pares\n",
    "print(pares)"
   ]
  }
 ],
 "metadata": {
  "kernelspec": {
   "display_name": "Python 3",
   "language": "python",
   "name": "python3"
  },
  "language_info": {
   "codemirror_mode": {
    "name": "ipython",
    "version": 3
   },
   "file_extension": ".py",
   "mimetype": "text/x-python",
   "name": "python",
   "nbconvert_exporter": "python",
   "pygments_lexer": "ipython3",
   "version": "3.12.2"
  }
 },
 "nbformat": 4,
 "nbformat_minor": 2
}
