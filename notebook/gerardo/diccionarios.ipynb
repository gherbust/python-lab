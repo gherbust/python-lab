{
 "cells": [
  {
   "cell_type": "code",
   "execution_count": 3,
   "metadata": {},
   "outputs": [
    {
     "name": "stdout",
     "output_type": "stream",
     "text": [
      "{'Gerardo': 40, 'Jaime': 22, 'Jose': 18, 'Laura': 36}\n",
      "{'Gerardo': 40, 'Jaime': 22, 'Jose': 18, 'Laura': 36, 'Juan': 28}\n",
      "{'Gerardo': 40, 'Jaime': 22, 'Jose': 18, 'Laura': 36, 'Juan': 48}\n",
      "18\n"
     ]
    },
    {
     "data": {
      "text/plain": [
       "True"
      ]
     },
     "execution_count": 3,
     "metadata": {},
     "output_type": "execute_result"
    }
   ],
   "source": [
    "d={'Gerardo':40,'Jaime':22, 'Jose':18,'Laura':36}\n",
    "print(d)\n",
    "d['Juan'] = 28\n",
    "print(d)\n",
    "d['Juan'] = 48\n",
    "print(d)\n",
    "print(d['Jose'])\n",
    "\n",
    "list(d)\n",
    "del d['Jaime']\n",
    "\n",
    "list(d)\n",
    "d1 = sorted(d)\n",
    "list(d1)\n",
    "\n",
    "'Daniel'  not in d\n",
    "'Jose' in d"
   ]
  },
  {
   "cell_type": "code",
   "execution_count": 5,
   "metadata": {},
   "outputs": [
    {
     "data": {
      "text/plain": [
       "{'Gerardo': 40, 'Luis': 18}"
      ]
     },
     "execution_count": 5,
     "metadata": {},
     "output_type": "execute_result"
    }
   ],
   "source": [
    "d_i={'Gerardo':40,'Jaime':22, 'Jose':18,'Laura':36}\n",
    "d_e =dict([('Gerardo',40),('Juan',58)])\n",
    "d = dict(Gerardo=40,Luis=18)\n",
    "d"
   ]
  },
  {
   "cell_type": "code",
   "execution_count": 7,
   "metadata": {},
   "outputs": [
    {
     "name": "stdout",
     "output_type": "stream",
     "text": [
      "Gerardo 40\n",
      "Jaime 22\n",
      "Jose 18\n",
      "Laura 36\n"
     ]
    }
   ],
   "source": [
    "d={'Gerardo':40,'Jaime':22, 'Jose':18,'Laura':36}\n",
    "\n",
    "for k,v in d.items():\n",
    "    print(k,v)"
   ]
  },
  {
   "cell_type": "code",
   "execution_count": 13,
   "metadata": {},
   "outputs": [
    {
     "name": "stdout",
     "output_type": "stream",
     "text": [
      "0 c\n",
      "letra a numero 2\n",
      "letra b numero 1\n",
      "letra c numero 3\n",
      "{'a': 2, 'b': 1, 'c': 3}\n",
      "c\n",
      "b\n",
      "a\n"
     ]
    },
    {
     "name": "stdout",
     "output_type": "stream",
     "text": [
      "1\n",
      "2\n",
      "3\n"
     ]
    }
   ],
   "source": [
    "sen=['a','b','c']\n",
    "num = [2,1,3]\n",
    "for i,v in enumerate(s):\n",
    "    print(i,v)\n",
    "d = dict()\n",
    "for s,n in zip(sen,num):\n",
    "    d[s] = n\n",
    "    # d['Juan'] = 28\n",
    "    print(\"letra {0} numero {1}\".format(s,n))\n",
    "    \n",
    "print(d)\n",
    "\n",
    "for i in  reversed(sen):\n",
    "    print(i)\n",
    "\n",
    "for i in sorted(num):\n",
    "    print(i)"
   ]
  }
 ],
 "metadata": {
  "kernelspec": {
   "display_name": "Python 3",
   "language": "python",
   "name": "python3"
  },
  "language_info": {
   "codemirror_mode": {
    "name": "ipython",
    "version": 3
   },
   "file_extension": ".py",
   "mimetype": "text/x-python",
   "name": "python",
   "nbconvert_exporter": "python",
   "pygments_lexer": "ipython3",
   "version": "3.12.2"
  }
 },
 "nbformat": 4,
 "nbformat_minor": 2
}
