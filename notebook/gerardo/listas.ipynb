{
 "cells": [
  {
   "cell_type": "code",
   "execution_count": 21,
   "metadata": {},
   "outputs": [
    {
     "name": "stdout",
     "output_type": "stream",
     "text": [
      "[1, 5, 88, 5, 9, 8, 5, 8, 5, 48, 15, 45, 458, 5, -1, -5, -5, -6, 99]\n",
      "0\n",
      "[458, 99, 88, 48, 45, 15, 9, 8, 8, 5, 5, 5, 5, 5, 1, -1, -5, -5, -6]\n",
      "[458, 99, 88, 48, 45, 15, 9, 8, 8, 5, 5, 5, 5, 5, 1, -1, -5, -5, -6, 0]\n"
     ]
    }
   ],
   "source": [
    "l = [ 1,5,8,4,5,9,8,5,4,8,5,48,15,45,458]\n",
    "l.append(5)\n",
    "negativos = [-1,-5,-5,-6]\n",
    "l.extend(negativos)\n",
    "l.insert(4,88)\n",
    "l.insert(len(l),99)\n",
    "l.remove(4)\n",
    "l.remove(4)\n",
    "l.pop(2)\n",
    "#l.clear()\n",
    "index = l.index(458)\n",
    "index\n",
    "c= l.count(4)\n",
    "print(l)\n",
    "print(c)\n",
    "l.sort()\n",
    "l.reverse()\n",
    "nl = l.copy()\n",
    "nl.append(0)\n",
    "print(l)\n",
    "print(nl)\n"
   ]
  },
  {
   "cell_type": "code",
   "execution_count": 29,
   "metadata": {},
   "outputs": [
    {
     "data": {
      "text/plain": [
       "[1, 2, 3, 4, 5, 6, 7, 8]"
      ]
     },
     "execution_count": 29,
     "metadata": {},
     "output_type": "execute_result"
    }
   ],
   "source": [
    "#Listas como pila\n",
    "\n",
    "stack = [1,2,3,4,5,6,7,8,9]\n",
    "\n",
    "stack.append(10)\n",
    "stack.append(11)\n",
    "\n",
    "stack.pop()\n",
    "stack.pop()\n",
    "stack.pop()\n",
    "stack"
   ]
  },
  {
   "cell_type": "code",
   "execution_count": 28,
   "metadata": {},
   "outputs": [
    {
     "data": {
      "text/plain": [
       "['Luis', 'jose']"
      ]
     },
     "execution_count": 28,
     "metadata": {},
     "output_type": "execute_result"
    }
   ],
   "source": [
    "\n",
    "\n",
    "# Listas como colas\n",
    "queu = [\"Erik\",\"Juan\"]\n",
    "\n",
    "queu.append(\"Luis\")\n",
    "queu.append(\"jose\")\n",
    "\n",
    "queu.pop(0)\n",
    "queu.pop(0)\n",
    "queu"
   ]
  },
  {
   "cell_type": "code",
   "execution_count": 37,
   "metadata": {},
   "outputs": [
    {
     "name": "stdout",
     "output_type": "stream",
     "text": [
      "[[0, 0, 0], [0, 1, 0], [0, 2, 0], [1, 0, 0], [1, 1, 1], [1, 2, 2], [2, 0, 0], [2, 1, 2], [2, 2, 4]]\n"
     ]
    },
    {
     "data": {
      "text/plain": [
       "'\\n[   [0, 0, 0],\\n    [0, 1, 0],\\n    [0, 2, 0],\\n    [1, 0, 0],\\n    [1, 1, 1],\\n    [1, 2, 2]\\n]\\n'"
      ]
     },
     "execution_count": 37,
     "metadata": {},
     "output_type": "execute_result"
    }
   ],
   "source": [
    "matriz = []\n",
    "for r in range(3):\n",
    "    row = []\n",
    "    for c in range(3):\n",
    "        row=[r,c,r*c]\n",
    "        matriz.append(row)\n",
    "\n",
    "print(matriz)\n",
    "\n",
    "\"\"\"\n",
    "[   [0, 0, 0],\n",
    "    [0, 1, 0],\n",
    "    [0, 2, 0],\n",
    "    [1, 0, 0],\n",
    "    [1, 1, 1],\n",
    "    [1, 2, 2]\n",
    "]\n",
    "\"\"\"\n"
   ]
  },
  {
   "cell_type": "code",
   "execution_count": 42,
   "metadata": {},
   "outputs": [
    {
     "data": {
      "text/plain": [
       "[1, 6, 7, 8, 9]"
      ]
     },
     "execution_count": 42,
     "metadata": {},
     "output_type": "execute_result"
    }
   ],
   "source": [
    "l = [1,2,3,4,5,6,7,8,9]\n",
    "#del l[:]\n",
    "del l[1:5]\n",
    "l\n"
   ]
  },
  {
   "cell_type": "code",
   "execution_count": 57,
   "metadata": {},
   "outputs": [
    {
     "name": "stdout",
     "output_type": "stream",
     "text": [
      "2\n",
      "e\n",
      "40\n"
     ]
    }
   ],
   "source": [
    "s = 2,\"e\",4,\"-\",41,[1,3,4,36,7,8],{\"k\":5},58\n",
    "s[0]\n",
    "t = \"datos\",s\n",
    "t[0]\n",
    "t[1]\n",
    "len(s)\n",
    "len(t)\n",
    "\n",
    "s = 2,\"e\",4\n",
    "t2=\"datos2\",s\n",
    "\n",
    "i,v,total = t2[1] \n",
    "\n",
    "print(i)\n",
    "print(v)\n",
    "total = 5*8\n",
    "print(total)\n",
    "\n"
   ]
  }
 ],
 "metadata": {
  "kernelspec": {
   "display_name": "Python 3",
   "language": "python",
   "name": "python3"
  },
  "language_info": {
   "codemirror_mode": {
    "name": "ipython",
    "version": 3
   },
   "file_extension": ".py",
   "mimetype": "text/x-python",
   "name": "python",
   "nbconvert_exporter": "python",
   "pygments_lexer": "ipython3",
   "version": "3.12.2"
  }
 },
 "nbformat": 4,
 "nbformat_minor": 2
}
