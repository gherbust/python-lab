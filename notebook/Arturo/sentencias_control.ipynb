{
 "cells": [
  {
   "cell_type": "code",
   "execution_count": 6,
   "metadata": {},
   "outputs": [
    {
     "name": "stdout",
     "output_type": "stream",
     "text": [
      "mayor\n"
     ]
    }
   ],
   "source": [
    "x = 42\n",
    "if x < 0:\n",
    "    x = 0\n",
    "    print(\"negativo cambiado a cero\")\n",
    "elif x == 0:\n",
    "    print(\"valor es cero\")\n",
    "elif x == 1:\n",
    "    print(\"numero simple\")\n",
    "elif x != 100:\n",
    "    print(\"mayor\")\n",
    "       "
   ]
  },
  {
   "cell_type": "code",
   "execution_count": 10,
   "metadata": {},
   "outputs": [
    {
     "name": "stdout",
     "output_type": "stream",
     "text": [
      "otra letra\n"
     ]
    }
   ],
   "source": [
    "x=\"z\"\n",
    "if x ==\"a\":\n",
    "    print(1)\n",
    "elif x ==\"b\":\n",
    "    print(2)\n",
    "else:\n",
    "    print('otra letra')        "
   ]
  },
  {
   "cell_type": "code",
   "execution_count": 12,
   "metadata": {},
   "outputs": [
    {
     "name": "stdout",
     "output_type": "stream",
     "text": [
      "si\n"
     ]
    }
   ],
   "source": [
    "x=True\n",
    "if x :\n",
    "    print(\"si\")\n",
    "else:\n",
    "    print(\"no\") \n",
    "       "
   ]
  },
  {
   "cell_type": "code",
   "execution_count": 15,
   "metadata": {},
   "outputs": [
    {
     "name": "stdout",
     "output_type": "stream",
     "text": [
      "hola 4\n",
      "adios 5\n",
      "ventana 7\n",
      "puerta 6\n",
      "PC 2\n",
      "plumas 6\n"
     ]
    }
   ],
   "source": [
    "palabras = [\"hola\",\"adios\",\"ventana\",\"puerta\",\"PC\",\"plumas\"]\n",
    "\n",
    "for palabra in palabras:\n",
    "    print(palabra, len(palabra))\n",
    "    \n"
   ]
  },
  {
   "cell_type": "code",
   "execution_count": 21,
   "metadata": {},
   "outputs": [
    {
     "name": "stdout",
     "output_type": "stream",
     "text": [
      "gerardo\n",
      "activo\n",
      "jose\n",
      "inactivo\n",
      "andres\n",
      "activo\n",
      "{'gerardo': 'activo', 'andres': 'activo'}\n",
      "ejemplo2\n",
      "{'gerardo': 'activo', 'jose': 'inactivo', 'andres': 'activo'}\n",
      "{'gerardo': 'activo', 'andres': 'activo'}\n"
     ]
    }
   ],
   "source": [
    "users = {'gerardo':'activo','jose':'inactivo','andres':'activo'}\n",
    "\n",
    "for user, status in users.copy().items():\n",
    "    print(user) # key\n",
    "    print(status) # value\n",
    "\n",
    "    if status == 'inactivo':\n",
    "        del users[user]\n",
    "\n",
    "print(users)\n",
    "\n",
    "users = {'gerardo':'activo','jose':'inactivo','andres':'activo'}\n",
    "active_users = {}\n",
    "for user, status in users.items():\n",
    "        if status == 'activo':\n",
    "             active_users[user] = status\n",
    "print(\"ejemplo2\")\n",
    "print(users)\n",
    "print(active_users)\n",
    "\n",
    "       "
   ]
  }
 ],
 "metadata": {
  "kernelspec": {
   "display_name": "Python 3",
   "language": "python",
   "name": "python3"
  },
  "language_info": {
   "codemirror_mode": {
    "name": "ipython",
    "version": 3
   },
   "file_extension": ".py",
   "mimetype": "text/x-python",
   "name": "python",
   "nbconvert_exporter": "python",
   "pygments_lexer": "ipython3",
   "version": "3.12.2"
  }
 },
 "nbformat": 4,
 "nbformat_minor": 2
}
